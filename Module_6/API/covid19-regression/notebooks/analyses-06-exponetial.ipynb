{
 "cells": [
  {
   "cell_type": "code",
   "execution_count": 1,
   "metadata": {},
   "outputs": [],
   "source": [
    "import pandas as pd\n",
    "import numpy as np\n",
    "import seaborn as sns\n",
    "import matplotlib.pyplot as plt\n",
    "from datetime import datetime, timedelta\n",
    "import sys\n",
    "sys.path.append('..')\n",
    "\n",
    "from src import utils\n",
    "\n",
    "from os import path\n",
    "import joblib\n",
    "import collections"
   ]
  },
  {
   "cell_type": "code",
   "execution_count": 2,
   "metadata": {},
   "outputs": [],
   "source": [
    "MODEL_DATE = '20-04-08'\n",
    "\n",
    "DATAFOLDER_PROCESSED = '/Users/navarmn/Work/Projects/2020-Corona/dev/covid19-data-processing/data/processed'\n",
    "DATAFOLDER_RAW = '/Users/navarmn/Work/Projects/2020-Corona/data/raw'\n",
    "\n",
    "STATES = ['AC', 'AL', 'AM', 'AP', 'BA', 'CE',\n",
    "         'DF', 'ES', 'GO', 'MA', 'MT', 'MS',\n",
    "         'MG', 'PA', 'PB', 'PR', 'PE', 'PI',\n",
    "         'RJ', 'RN', 'RO', 'RS', 'RR', 'SC',\n",
    "         'SE', 'SP', 'TO']\n",
    "\n",
    "MODELS = ['linear-polynomial', 'gpr', 'linear-regression']\n",
    "\n",
    "MODELS_DETAILS = {\n",
    "    'linear-polynomial': \"Liner Regression + Polynomial Features degree 4\",\n",
    "    'gpr': \"Gaussian Process Regressor - Kernel RBF\",\n",
    "    'linear-regression': \"Liner Regression - degree 1\"\n",
    "}\n",
    "\n",
    "MODELS_PATH = path.join('..', 'models')\n",
    "\n",
    "VERSION = 0.1"
   ]
  },
  {
   "cell_type": "code",
   "execution_count": 3,
   "metadata": {},
   "outputs": [],
   "source": [
    "import warnings\n",
    "warnings.filterwarnings(\"ignore\")\n",
    "from ipywidgets import interactive\n",
    "\n",
    "from statsmodels.tsa.api import Holt\n",
    "\n",
    "\n",
    "def holt_predict(X, var_future, smoothing_level=0.5, smoothing_slope=0.05):\n",
    "    model_holt = Holt(X['y'], exponential=True).fit(smoothing_level=smoothing_level, smoothing_slope=smoothing_slope, optimized=False)\n",
    "    forecast = model_holt.forecast(var_future)\n",
    "\n",
    "    # Check if predictions are belows yesterday\n",
    "#     last_value = porra_df.iloc[-1]['y']\n",
    "#     forecast = utils.rescale_yhat(forecast.values, last_value)\n",
    "    return forecast\n",
    "\n",
    "\n",
    "\n",
    "def f(state='TO', days_to_train=7, days_to_train2=14, smoothing=0.5, slope=0.05):\n",
    "\n",
    "    df_state = utils.download_state(state=state)\n",
    "    df_state = df_state[df_state['cases'] != 0]\n",
    "    dayone = df_state[df_state['cases'] != 0].index[0]\n",
    "    days = np.array(utils.count_days(dayone=dayone, date_string='%d/%m/%Y'))\n",
    "    X = days.reshape(-1,1)\n",
    "    y = utils.get_labels(df_state['cases']).reshape(-1,1)\n",
    "    X, y = utils.check_inputs(X, y)\n",
    "\n",
    "    DAYS_TO_TRAIN = days_to_train\n",
    "    forecast_last_7 = holt_predict(utils.porra(df_state.iloc[-DAYS_TO_TRAIN:]), var_future=14, smoothing_level=smoothing, smoothing_slope=slope)\n",
    "    y_last_7 = forecast_last_7.values\n",
    "    X_last_7 = np.arange(X[-1], X[-1]+14, 1)\n",
    "    X_last_7, y_last_7 = utils.check_inputs(X_last_7, y_last_7)\n",
    "    ds_last_7 = utils.format_date(df_state.iloc[-DAYS_TO_TRAIN:].index.tolist(), date_string_input='%d/%m/%Y')\n",
    "    \n",
    "    \n",
    "    plt.figure(figsize=(7,5))\n",
    "\n",
    "    plt.plot(X, y, 'black', linewidth=2, label='Real Data')\n",
    "    plt.plot(X_last_7, y_last_7, label='Predição futura')\n",
    "\n",
    "    plt.legend(fontsize=10)\n",
    "    plt.ylim(0, y[-1]*5)\n",
    "\n",
    "#     plt.savefig('{}-comparativo.png'.format(state))\n",
    "\n",
    "    plt.show()\n",
    "    "
   ]
  },
  {
   "cell_type": "code",
   "execution_count": 4,
   "metadata": {},
   "outputs": [
    {
     "data": {
      "image/png": "[encoded data removed]",
      "text/plain": [
       "<Figure size 504x360 with 1 Axes>"
      ]
     },
     "metadata": {
      "needs_background": "light"
     },
     "output_type": "display_data"
    }
   ],
   "source": [
    "STATES = ['AC', 'AL', 'AM', 'AP', 'BA', 'CE',\n",
    "         'DF', 'ES', 'GO', 'MA', 'MT', 'MS',\n",
    "         'MG', 'PA', 'PB', 'PR', 'PE', 'PI',\n",
    "         'RJ', 'RN', 'RO', 'RS', 'RR', 'SC',\n",
    "         'SE', 'SP', 'TO']\n",
    "\n",
    "interactive_plot = interactive(f, state=STATES, days_to_train=(3, 14), smoothing=(0.2, 5, 0.01), slope=(0.01, 3, 0.01))\n",
    "output = interactive_plot.children[-1]\n",
    "output.layout.height = '350px'\n",
    "interactive_plot"
   ]
  },
  {
   "cell_type": "code",
   "execution_count": 5,
   "metadata": {},
   "outputs": [
    {
     "data": {
      "image/png": "[encoded data removed]",
      "text/plain": [
       "<Figure size 432x288 with 1 Axes>"
      ]
     },
     "metadata": {
      "needs_background": "light"
     },
     "output_type": "display_data"
    }
   ],
   "source": [
    "%matplotlib inline\n",
    "from ipywidgets import interactive\n",
    "import matplotlib.pyplot as plt\n",
    "import numpy as np\n",
    "\n",
    "def f(m, b):\n",
    "    plt.figure(2)\n",
    "    x = np.linspace(-10, 10, num=1000)\n",
    "    plt.plot(x, m * x + b)\n",
    "    plt.ylim(-5, 5)\n",
    "    plt.show()\n",
    "\n",
    "interactive_plot = interactive(f, m=(-2.0, 2.0), b=(-3, 3, 0.5))\n",
    "output = interactive_plot.children[-1]\n",
    "output.layout.height = '350px'\n",
    "interactive_plot"
   ]
  },
  {
   "cell_type": "code",
   "execution_count": null,
   "metadata": {},
   "outputs": [],
   "source": []
  },
  {
   "cell_type": "code",
   "execution_count": null,
   "metadata": {},
   "outputs": [],
   "source": []
  },
  {
   "cell_type": "code",
   "execution_count": null,
   "metadata": {},
   "outputs": [],
   "source": []
  },
  {
   "cell_type": "code",
   "execution_count": null,
   "metadata": {},
   "outputs": [],
   "source": []
  },
  {
   "cell_type": "code",
   "execution_count": null,
   "metadata": {},
   "outputs": [],
   "source": []
  },
  {
   "cell_type": "code",
   "execution_count": null,
   "metadata": {},
   "outputs": [],
   "source": []
  },
  {
   "cell_type": "code",
   "execution_count": null,
   "metadata": {},
   "outputs": [],
   "source": []
  }
 ],
 "metadata": {
  "kernelspec": {
   "display_name": "Python data-science",
   "language": "python",
   "name": "python-data-science"
  },
  "language_info": {
   "codemirror_mode": {
    "name": "ipython",
    "version": 3
   },
   "file_extension": ".py",
   "mimetype": "text/x-python",
   "name": "python",
   "nbconvert_exporter": "python",
   "pygments_lexer": "ipython3",
   "version": "3.7.7"
  }
 },
 "nbformat": 4,
 "nbformat_minor": 4
}
