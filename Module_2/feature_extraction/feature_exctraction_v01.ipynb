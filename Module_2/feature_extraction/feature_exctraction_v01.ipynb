{
 "cells": [
  {
   "cell_type": "markdown",
   "metadata": {},
   "source": [
    "# Imports, variables and stuff"
   ]
  },
  {
   "cell_type": "code",
   "execution_count": 1,
   "metadata": {},
   "outputs": [],
   "source": [
    "import pandas as pd\n",
    "import numpy as np\n",
    "import matplotlib.pyplot as plt\n",
    "from os import path"
   ]
  },
  {
   "cell_type": "markdown",
   "metadata": {},
   "source": [
    "## Import the `feature extraction module`"
   ]
  },
  {
   "cell_type": "code",
   "execution_count": 2,
   "metadata": {},
   "outputs": [
    {
     "name": "stdout",
     "output_type": "stream",
     "text": [
      "fatal: destination path 'feature_extraction_signal' already exists and is not an empty directory.\n"
     ]
    }
   ],
   "source": [
    "!git clone https://github.com/navarmn/feature_extraction_signal.git"
   ]
  },
  {
   "cell_type": "code",
   "execution_count": 3,
   "metadata": {},
   "outputs": [
    {
     "name": "stdout",
     "output_type": "stream",
     "text": [
      "feature_exctraction_v01.ipynb  feature_extraction_signal  test.py\n"
     ]
    }
   ],
   "source": [
    "!ls"
   ]
  },
  {
   "cell_type": "code",
   "execution_count": 4,
   "metadata": {},
   "outputs": [],
   "source": [
    "from feature_extraction_signal.src import feature_extraction"
   ]
  },
  {
   "cell_type": "markdown",
   "metadata": {},
   "source": [
    "## variables"
   ]
  },
  {
   "cell_type": "code",
   "execution_count": 5,
   "metadata": {},
   "outputs": [],
   "source": [
    "DATAFOLDER = path.join('..', '..', 'data')\n",
    "DATAFILES = [\n",
    "    'v000_FAULT_SC_HI_LVL2_FR6000_FG5942_L000_0,6IN_SENSORC.csv',\n",
    "    'v000_FAULT_SC_LI_LVL3_FR4500_FG4365_L000_0,8IN_SENSORC.csv',\n",
    "    'v000_FAULT_SC_LI_LVL3_FR6000_FG5927_L000_0,4IN_SENSORC.csv',\n",
    "    'v000_NORMAL_FR4500_FG4385_L000_1,0IN_SENSORC.csv',\n",
    "    'v000_NORMAL_FR6000_FG5955_L000_0,5IN_SENSORC.csv'\n",
    "]\n",
    "\n",
    "SEED = 1987298712"
   ]
  },
  {
   "cell_type": "markdown",
   "metadata": {},
   "source": [
    "# Load Data"
   ]
  },
  {
   "cell_type": "code",
   "execution_count": 6,
   "metadata": {},
   "outputs": [
    {
     "data": {
      "text/html": [
       "<div>\n",
       "<style scoped>\n",
       "    .dataframe tbody tr th:only-of-type {\n",
       "        vertical-align: middle;\n",
       "    }\n",
       "\n",
       "    .dataframe tbody tr th {\n",
       "        vertical-align: top;\n",
       "    }\n",
       "\n",
       "    .dataframe thead th {\n",
       "        text-align: right;\n",
       "    }\n",
       "</style>\n",
       "<table border=\"1\" class=\"dataframe\">\n",
       "  <thead>\n",
       "    <tr style=\"text-align: right;\">\n",
       "      <th></th>\n",
       "      <th>Current_R</th>\n",
       "      <th>Current_S</th>\n",
       "      <th>Current_T</th>\n",
       "      <th>Current_hall_R</th>\n",
       "      <th>Current_hall_S</th>\n",
       "      <th>Current_hall_T</th>\n",
       "      <th>Freq_Rated</th>\n",
       "      <th>Freq_Gen</th>\n",
       "      <th>CC_bus</th>\n",
       "      <th>Power</th>\n",
       "      <th>Load</th>\n",
       "      <th>I_R_rms</th>\n",
       "      <th>I_S_rms</th>\n",
       "      <th>I_T_rms</th>\n",
       "    </tr>\n",
       "  </thead>\n",
       "  <tbody>\n",
       "    <tr>\n",
       "      <th>0</th>\n",
       "      <td>0.035657</td>\n",
       "      <td>-1.402470</td>\n",
       "      <td>1.414564</td>\n",
       "      <td>2.713690</td>\n",
       "      <td>2.394956</td>\n",
       "      <td>2.550505</td>\n",
       "      <td>60</td>\n",
       "      <td>59.55</td>\n",
       "      <td>210</td>\n",
       "      <td>0.1</td>\n",
       "      <td>0</td>\n",
       "      <td>1.184284</td>\n",
       "      <td>1.188929</td>\n",
       "      <td>1.197345</td>\n",
       "    </tr>\n",
       "    <tr>\n",
       "      <th>1</th>\n",
       "      <td>-0.104310</td>\n",
       "      <td>-1.389744</td>\n",
       "      <td>1.478187</td>\n",
       "      <td>2.695843</td>\n",
       "      <td>2.109424</td>\n",
       "      <td>2.547956</td>\n",
       "      <td>60</td>\n",
       "      <td>59.55</td>\n",
       "      <td>210</td>\n",
       "      <td>0.1</td>\n",
       "      <td>0</td>\n",
       "      <td>1.184284</td>\n",
       "      <td>1.188929</td>\n",
       "      <td>1.197345</td>\n",
       "    </tr>\n",
       "    <tr>\n",
       "      <th>2</th>\n",
       "      <td>-0.218827</td>\n",
       "      <td>-1.338842</td>\n",
       "      <td>1.618156</td>\n",
       "      <td>2.698393</td>\n",
       "      <td>2.349067</td>\n",
       "      <td>2.578549</td>\n",
       "      <td>60</td>\n",
       "      <td>59.55</td>\n",
       "      <td>210</td>\n",
       "      <td>0.1</td>\n",
       "      <td>0</td>\n",
       "      <td>1.184284</td>\n",
       "      <td>1.188929</td>\n",
       "      <td>1.197345</td>\n",
       "    </tr>\n",
       "    <tr>\n",
       "      <th>3</th>\n",
       "      <td>-0.295173</td>\n",
       "      <td>-1.224312</td>\n",
       "      <td>1.579983</td>\n",
       "      <td>2.685645</td>\n",
       "      <td>2.422999</td>\n",
       "      <td>2.573450</td>\n",
       "      <td>60</td>\n",
       "      <td>59.55</td>\n",
       "      <td>210</td>\n",
       "      <td>0.1</td>\n",
       "      <td>0</td>\n",
       "      <td>1.184284</td>\n",
       "      <td>1.188929</td>\n",
       "      <td>1.197345</td>\n",
       "    </tr>\n",
       "    <tr>\n",
       "      <th>4</th>\n",
       "      <td>-0.486036</td>\n",
       "      <td>-1.275214</td>\n",
       "      <td>1.809024</td>\n",
       "      <td>2.670347</td>\n",
       "      <td>2.305727</td>\n",
       "      <td>2.604043</td>\n",
       "      <td>60</td>\n",
       "      <td>59.55</td>\n",
       "      <td>210</td>\n",
       "      <td>0.1</td>\n",
       "      <td>0</td>\n",
       "      <td>1.184284</td>\n",
       "      <td>1.188929</td>\n",
       "      <td>1.197345</td>\n",
       "    </tr>\n",
       "  </tbody>\n",
       "</table>\n",
       "</div>"
      ],
      "text/plain": [
       "   Current_R  Current_S  Current_T  Current_hall_R  Current_hall_S  \\\n",
       "0   0.035657  -1.402470   1.414564        2.713690        2.394956   \n",
       "1  -0.104310  -1.389744   1.478187        2.695843        2.109424   \n",
       "2  -0.218827  -1.338842   1.618156        2.698393        2.349067   \n",
       "3  -0.295173  -1.224312   1.579983        2.685645        2.422999   \n",
       "4  -0.486036  -1.275214   1.809024        2.670347        2.305727   \n",
       "\n",
       "   Current_hall_T  Freq_Rated  Freq_Gen  CC_bus  Power  Load   I_R_rms  \\\n",
       "0        2.550505          60     59.55     210    0.1     0  1.184284   \n",
       "1        2.547956          60     59.55     210    0.1     0  1.184284   \n",
       "2        2.578549          60     59.55     210    0.1     0  1.184284   \n",
       "3        2.573450          60     59.55     210    0.1     0  1.184284   \n",
       "4        2.604043          60     59.55     210    0.1     0  1.184284   \n",
       "\n",
       "    I_S_rms   I_T_rms  \n",
       "0  1.188929  1.197345  \n",
       "1  1.188929  1.197345  \n",
       "2  1.188929  1.197345  \n",
       "3  1.188929  1.197345  \n",
       "4  1.188929  1.197345  "
      ]
     },
     "execution_count": 6,
     "metadata": {},
     "output_type": "execute_result"
    }
   ],
   "source": [
    "data_normal = pd.read_csv(path.join(DATAFOLDER, DATAFILES[4]))\n",
    "data_normal.head()"
   ]
  },
  {
   "cell_type": "code",
   "execution_count": 7,
   "metadata": {},
   "outputs": [],
   "source": [
    "fe_fourier = feature_extraction.Fourier(fundamental=60.0, fs=5000.0, harmonics=(0.5, 1, 1.5, 3, 5, 7))"
   ]
  },
  {
   "cell_type": "code",
   "execution_count": 8,
   "metadata": {},
   "outputs": [],
   "source": [
    "out_fourier = fe_fourier.transform(data_normal['Current_R'])"
   ]
  },
  {
   "cell_type": "code",
   "execution_count": 9,
   "metadata": {},
   "outputs": [
    {
     "data": {
      "text/plain": [
       "{'fft': array([0.02057251, 0.00216248, 0.00260824, ..., 0.00064846, 0.0009458 ,\n",
       "        0.00143982]),\n",
       " 'frequency': array([0.00000000e+00, 1.00004000e-01, 2.00008000e-01, ...,\n",
       "        2.49979999e+03, 2.49990000e+03, 2.50000000e+03]),\n",
       " 'features': [0.0019622319069929495,\n",
       "  0.0029927210904969834,\n",
       "  0.002655532049987921,\n",
       "  0.0029619683798178227,\n",
       "  0.003507151559791723,\n",
       "  0.0032051223920600822],\n",
       " 'features_vector': [0.5000200008000321,\n",
       "  1.0000400016000641,\n",
       "  1.6000640025601023,\n",
       "  3.2001280051202046,\n",
       "  5.400216008640346,\n",
       "  7.6003040121604855]}"
      ]
     },
     "execution_count": 9,
     "metadata": {},
     "output_type": "execute_result"
    }
   ],
   "source": [
    "out_fourier"
   ]
  },
  {
   "cell_type": "code",
   "execution_count": null,
   "metadata": {},
   "outputs": [],
   "source": []
  },
  {
   "cell_type": "code",
   "execution_count": null,
   "metadata": {},
   "outputs": [],
   "source": []
  },
  {
   "cell_type": "code",
   "execution_count": null,
   "metadata": {},
   "outputs": [],
   "source": []
  },
  {
   "cell_type": "code",
   "execution_count": null,
   "metadata": {},
   "outputs": [],
   "source": []
  },
  {
   "cell_type": "code",
   "execution_count": null,
   "metadata": {},
   "outputs": [],
   "source": []
  }
 ],
 "metadata": {
  "kernelspec": {
   "display_name": "Python tf-2.0",
   "language": "python",
   "name": "tensorflow-2.0"
  },
  "language_info": {
   "codemirror_mode": {
    "name": "ipython",
    "version": 3
   },
   "file_extension": ".py",
   "mimetype": "text/x-python",
   "name": "python",
   "nbconvert_exporter": "python",
   "pygments_lexer": "ipython3",
   "version": "3.6.9"
  }
 },
 "nbformat": 4,
 "nbformat_minor": 4
}
